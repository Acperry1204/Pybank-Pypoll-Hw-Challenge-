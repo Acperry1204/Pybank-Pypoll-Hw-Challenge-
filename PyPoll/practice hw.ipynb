{
 "cells": [
  {
   "cell_type": "code",
   "execution_count": 24,
   "metadata": {},
   "outputs": [],
   "source": [
    "#import poll\n",
    "import os\n",
    "import csv"
   ]
  },
  {
   "cell_type": "code",
   "execution_count": 76,
   "metadata": {},
   "outputs": [
    {
     "name": "stdout",
     "output_type": "stream",
     "text": [
      "<_csv.reader object at 0x1039f4128>\n",
      "2218231\n",
      "704200\n",
      "492940\n",
      "105630\n",
      "63.0\n",
      "20.0\n",
      "14.0\n",
      "3.0\n"
     ]
    }
   ],
   "source": [
    "#working directory\n",
    "csvpath=os.path.join('..','Resources','election_data.csv')\n",
    "with open(csvpath, newline='') as csvfile:\n",
    "    csvreader = csv.reader(csvfile, delimiter=',')\n",
    "    print(csvreader)\n",
    "    csv_header = next(csvreader)\n",
    "    \n",
    "    #Declaring variables\n",
    "    votes = []\n",
    "    county = []\n",
    "    candidates = []\n",
    "    khan = []\n",
    "    correy = []\n",
    "    li = []\n",
    "    otooley = []\n",
    "\n",
    "\n",
    "    for row in csvreader:\n",
    "        votes.append(int(row[0]))\n",
    "        county.append(row[1])\n",
    "        candidates.append(row[2])\n",
    "    #VOTE COUNT\n",
    "    total_votes = (len(votes))\n",
    "    print(total_votes)\n",
    "\n",
    "    #Votes by Person\n",
    "    for candidate in candidates:\n",
    "        if candidate == \"Khan\":\n",
    "            khan.append(candidates)\n",
    "            khan_votes = len(khan)\n",
    "        elif candidate == \"Correy\":\n",
    "            correy.append(candidates)\n",
    "            correy_votes = len(correy)\n",
    "        elif candidate == \"Li\":\n",
    "            li.append(candidates)\n",
    "            li_votes = len(li)\n",
    "        else:\n",
    "            otooley.append(candidates)\n",
    "            otooley_votes = len(otooley)\n",
    "    print(khan_votes)\n",
    "    print(correy_votes)\n",
    "    print(li_votes)\n",
    "    print(otooley_votes)\n",
    "    \n",
    "    \n",
    "    #Percentages\n",
    "    khan_percent = round(((khan_votes / total_votes) * 100), 2)\n",
    "    correy_percent = round(((correy_votes / total_votes) * 100), 2)\n",
    "    li_percent = round(((li_votes / total_votes) * 100), 2)\n",
    "    otooley_percent = round(((otooley_votes / total_votes) * 100), 2)\n",
    "    print(khan_percent)\n",
    "    print(correy_percent)\n",
    "    print(li_percent)\n",
    "    print(otooley_percent)\n",
    "    \n",
    "    \n",
    "    if khan_percent > max(correy_percent, li_percent, otooley_percent):\n",
    "        winner = \"Khan\"\n",
    "    elif correy_percent > max(khan_percent, li_percent, otooley_percent):\n",
    "        winner = \"Correy\"  \n",
    "    elif li_percent > max(correy_percent, khan_percent, otooley_percent):\n",
    "        winner = \"Li\"\n",
    "    else:\n",
    "        winner = \"O'Tooley\""
   ]
  },
  {
   "cell_type": "code",
   "execution_count": 98,
   "metadata": {},
   "outputs": [
    {
     "ename": "SyntaxError",
     "evalue": "invalid syntax (<ipython-input-98-0430c1e19540>, line 6)",
     "output_type": "error",
     "traceback": [
      "\u001b[0;36m  File \u001b[0;32m\"<ipython-input-98-0430c1e19540>\"\u001b[0;36m, line \u001b[0;32m6\u001b[0m\n\u001b[0;31m    print(f\"-----------------------------------\") + \"\\n\"\u001b[0m\n\u001b[0m        ^\u001b[0m\n\u001b[0;31mSyntaxError\u001b[0m\u001b[0;31m:\u001b[0m invalid syntax\n"
     ]
    }
   ],
   "source": [
    "#Print Statements\n",
    "\n",
    "print(f\"Election Results\") + \"\\n\"\n",
    "print(f\"-----------------------------------\") + \"\\n\"\n",
    "print(f\"Total Votes: {total_votes}\" + \"\\n\"\n",
    "print(f\"-----------------------------------\") + \"\\n\"\n",
    "print(f\"Khan: {khan_percent}% ({khan_votes})\") + \"\\n\"\n",
    "print(f\"Correy: {correy_percent}% ({correy_votes})\") + \"\\n\"\n",
    "print(f\"Li: {li_percent}% ({li_votes})\") + \"\\n\"\n",
    "print(f\"O'Tooley: {otooley_percent}% ({otooley_votes})\") + \"\\n\"\n",
    "print(f\"-----------------------------------\") + \"\\n\"\n",
    "print(f\"Winner: {winner}\") + \"\\n\"\n",
    "print(f\"-----------------------------------\")\n",
    "\n"
   ]
  },
  {
   "cell_type": "code",
   "execution_count": 95,
   "metadata": {},
   "outputs": [
    {
     "name": "stdout",
     "output_type": "stream",
     "text": [
      "Khan: 63.0% (2218231)\n"
     ]
    },
    {
     "ename": "TypeError",
     "evalue": "unsupported operand type(s) for +: 'NoneType' and 'str'",
     "output_type": "error",
     "traceback": [
      "\u001b[0;31m---------------------------------------------------------------------------\u001b[0m",
      "\u001b[0;31mTypeError\u001b[0m                                 Traceback (most recent call last)",
      "\u001b[0;32m<ipython-input-95-ea4389e03fe0>\u001b[0m in \u001b[0;36m<module>\u001b[0;34m()\u001b[0m\n\u001b[0;32m----> 1\u001b[0;31m \u001b[0mprint\u001b[0m\u001b[0;34m(\u001b[0m\u001b[0;34mf\"Khan: {khan_percent}% ({khan_votes})\"\u001b[0m\u001b[0;34m)\u001b[0m \u001b[0;34m+\u001b[0m \u001b[0;34m\"\\n\"\u001b[0m\u001b[0;34m\u001b[0m\u001b[0m\n\u001b[0m",
      "\u001b[0;31mTypeError\u001b[0m: unsupported operand type(s) for +: 'NoneType' and 'str'"
     ]
    }
   ],
   "source": [
    "print(f\"Khan: {khan_percent}% ({khan_votes})\") + \"\\n\"\n",
    "\n"
   ]
  },
  {
   "cell_type": "code",
   "execution_count": 82,
   "metadata": {},
   "outputs": [
    {
     "name": "stdout",
     "output_type": "stream",
     "text": [
      "Total Votes: 3521001\n"
     ]
    },
    {
     "ename": "TypeError",
     "evalue": "unsupported operand type(s) for +: 'NoneType' and 'str'",
     "output_type": "error",
     "traceback": [
      "\u001b[0;31m---------------------------------------------------------------------------\u001b[0m",
      "\u001b[0;31mTypeError\u001b[0m                                 Traceback (most recent call last)",
      "\u001b[0;32m<ipython-input-82-2c6caadce550>\u001b[0m in \u001b[0;36m<module>\u001b[0;34m()\u001b[0m\n\u001b[0;32m----> 1\u001b[0;31m \u001b[0mprint\u001b[0m\u001b[0;34m(\u001b[0m\u001b[0;34mf\"Total Votes: {total_votes}\"\u001b[0m\u001b[0;34m)\u001b[0m \u001b[0;34m+\u001b[0m \u001b[0;34m\"\\n\"\u001b[0m\u001b[0;34m\u001b[0m\u001b[0m\n\u001b[0m",
      "\u001b[0;31mTypeError\u001b[0m: unsupported operand type(s) for +: 'NoneType' and 'str'"
     ]
    }
   ],
   "source": [
    "\n"
   ]
  },
  {
   "cell_type": "code",
   "execution_count": null,
   "metadata": {},
   "outputs": [],
   "source": []
  }
 ],
 "metadata": {
  "kernelspec": {
   "display_name": "Python 3",
   "language": "python",
   "name": "python3"
  },
  "language_info": {
   "codemirror_mode": {
    "name": "ipython",
    "version": 3
   },
   "file_extension": ".py",
   "mimetype": "text/x-python",
   "name": "python",
   "nbconvert_exporter": "python",
   "pygments_lexer": "ipython3",
   "version": "3.7.0"
  }
 },
 "nbformat": 4,
 "nbformat_minor": 2
}
